{
 "cells": [
  {
   "cell_type": "code",
   "execution_count": 14,
   "metadata": {
    "collapsed": true
   },
   "outputs": [],
   "source": [
    "% matplotlib inline\n",
    "import matplotlib.pyplot as plt\n",
    "import numpy as np"
   ]
  },
  {
   "cell_type": "markdown",
   "metadata": {},
   "source": [
    "From Kirchoff's law, we relate atmospheric emissivity $ \\epsilon $ and transmissivity $T$ as: \n",
    "$$ \\epsilon = 1- T $$\n",
    "Transmission $T$ is given as a function of wavelength $\\nu$ and path length $L$ : \n",
    "$$ T = \\exp \\left( -\\sigma_{tot} \\left(\\nu\\right) L \\right) $$\n",
    "where $ \\sigma $ is the extinction coefficient due to both atmospheric gasses and aerosols. Here, I follow Roberts et al 1976, which estimates $\\sigma_{H_2O}$ between wavelengths of 100 and 1500 $\\mu m$ as: \n",
    "$$ \\sigma_{H_2 O} = -C^\\circ ( \\nu ) \\omega _{H_2O} \\left[ P_{H_2O} + \\gamma (P- P_{H_2O} ) \\right] $$\n",
    "where $\\omega_{H_2O} $ is the volumetric density of water. We can relate this to pressure and temperature by $\\omega_{H_2 O} = P_{H_2O} / (RT)$, leaving: \n",
    "\n",
    "$$ \\sigma_{H_2 O} = -C^\\circ ( \\nu ) P_{H_2O} / (RT) \\left[ P_{H_2O} + \\gamma (P- P_{H_2O} ) \\right]$$\n",
    "\n",
    "Note that as $C^\\circ ( \\nu ) = a+b\\exp (-\\beta \\nu)$, analytical integration is not possible.\n",
    "\n",
    "We are interested in emissivity as a function of humidity. As there are abundant observations of relative humidity $RH$, we use this parameter. We can relate this to water vapor pressure as: \n",
    "$$RH = \\frac{P_{H_2O}}{P^\\ast_{H_2O}} $$\n",
    "where $P^\\ast_{H_2O}$ is the saturation vapor pressure. It can be linearized as \n",
    "$ P^\\ast_{H_2O} = A \\cdot 10^{\\frac{mT}{T+T_n}} $ using the formulation from Vaisala http://www.vaisala.com/Vaisala%20Documents/Application%20notes/Humidity_Conversion_Formulas_B210973EN-F.pdf so that \n",
    "$P_{H_2O} = RH \\cdot A \\cdot 10^{\\frac{mT}{T+T_n}} $"
   ]
  },
  {
   "cell_type": "markdown",
   "metadata": {},
   "source": [
    "Thus we can write the emissivity as a function of the average transmission: \n",
    "\n",
    "$$  \\epsilon = 1- \\frac{1}{1400} \\int_{100}^{1500} \\exp \\left( -\\sigma_{tot} \\left(\\nu\\right) L \\right) d\\nu $$\n",
    "\n",
    "$$ \\epsilon = 1- \\frac{1}{1400} \\int_{100}^{1500} \\exp \\left(\n",
    "C^\\circ ( \\nu ) \\frac{ P_{H_2O}}{ (RT)} \\left[ P_{H_2O} + \\gamma (P- P_{H_2O} ) \\right] \n",
    "L \\right) d\\nu$$\n",
    "\n",
    "$$\n",
    "\\epsilon = 1- \\frac{1}{1400} \\int_{100}^{1500} \\exp \\left(\n",
    "C^\\circ ( \\nu ) \\frac{ RH \\cdot A \\cdot 10^{\\frac{mT}{T+T_n}}}{ (RT)} \\left[ RH \\cdot A \\cdot 10^{\\frac{mT}{T+T_n}} + \\gamma (P- RH \\cdot A \\cdot 10^{\\frac{mT}{T+T_n}} ) \\right] \n",
    "L \\right)d\\nu\n",
    "$$\n",
    "\n",
    "This can be written more simply as: \n",
    "\n",
    "$$ \\epsilon = 1- \\frac{1}{1400} \\int_{100}^{1500} \\exp C^\\circ (\\nu) \\left(\n",
    "RH \\cdot \\left(c_1 RH + c_2 \\right)\n",
    "\\right)d\\nu\n",
    "$$\n",
    "where $c_1 =  \\frac {L}{TR} A^2 \\cdot 10^{2 \\frac{mT}{T+T_n}} \\left(1-\\gamma \\right) $ and \n",
    "$c_2 = \\frac{L}{TR} A \\cdot 10^{ \\frac{mT}{T+T_n}} \\gamma P $. \n",
    "Thus we can express the partial dependence on relative humidity as: \n",
    "$$ \\frac{\\partial \\epsilon}{\\partial RH} =  1- \\frac{1}{1400}\\int_{100}^{1500} C^\\circ (\\nu) \\frac{\\partial}{\\partial RH} \\exp ^ {C^\\circ (\\nu) RH \\cdot \\left(c_1 RH + c_2 \\right)}\n",
    " $$\n",
    " \n",
    " $$ \\frac{\\partial \\epsilon}{\\partial RH} = - \\frac{1}{1400} \\int_{100}^{1500} C^\\circ (\\nu)\n",
    " \\left( 2 \\cdot RH \\frac{\\partial c_1}{\\partial RH} + \\frac{\\partial c_2}{\\partial RH} \\right) \n",
    " \\cdot \\exp ^ { C^\\circ (\\nu) RH \\cdot \\left(c_1 RH + c_2 \\right)} \n",
    " d\\nu $$\n",
    " \n",
    "  $$ \\frac{\\partial \\epsilon}{\\partial RH} = - \\frac{1}{1400} \n",
    "   \\left( 2 \\cdot RH \\frac{\\partial c_1}{\\partial RH} + \\frac{\\partial c_2}{\\partial RH} \\right)  \n",
    "   \\int_{100}^{1500} \n",
    " C^\\circ (\\nu) \\cdot \\exp ^ {C^\\circ (\\nu) RH \\cdot \\left(c_1 RH + c_2 \\right)} \n",
    " d\\nu $$\n",
    " \n",
    " where \n",
    " $\\frac{\\partial c_1}{\\partial RH} = $\n",
    " and   $\\frac{\\partial c_2}{\\partial RH} = $"
   ]
  },
  {
   "cell_type": "markdown",
   "metadata": {},
   "source": [
    "If we assume temperature is fixed, we can ask what the change is when we pass from a warm, dry  day to a warm, moist day. This we will do numerically. "
   ]
  },
  {
   "cell_type": "code",
   "execution_count": 4,
   "metadata": {
    "collapsed": false
   },
   "outputs": [
    {
     "data": {
      "text/plain": [
       "(50,)"
      ]
     },
     "execution_count": 4,
     "metadata": {},
     "output_type": "execute_result"
    }
   ],
   "source": [
    "np.linspace(400, 1200,50).shape"
   ]
  },
  {
   "cell_type": "code",
   "execution_count": 89,
   "metadata": {
    "collapsed": false
   },
   "outputs": [
    {
     "data": {
      "text/plain": [
       "0.9375"
      ]
     },
     "execution_count": 89,
     "metadata": {},
     "output_type": "execute_result"
    }
   ],
   "source": [
    "nu = np.linspace(400, 1200,50)\n",
    "rh = .85\n",
    "#rh = np.linspace(.15, .95)\n",
    "P = 1 # pressure in atmospheres\n",
    "T = 296\n",
    "L = .5 # should be in km, if using Roberts 76 constants\n",
    "\n",
    "Co = 1.25e-22 + 2.34e-19* np.exp(-8.3e-3 * nu)\n",
    "#Co = 10**(-20)*np.ones(50)\n",
    "\n",
    "gamma = 0.005 # could also be 0.002\n",
    "R = 8.314\n",
    "# RH constants from Vaisala http://www.vaisala.com/Vaisala%20Documents/Application%20notes/Humidity_Conversion_Formulas_B210973EN-F.pdf\n",
    "A = 6.116441\n",
    "T_n = 240.7263\n",
    "m = 7.591386\n",
    "c1 = L/(T*R) *A**2 *10**(2*m*T/(T+T_n))*(1 - gamma)\n",
    "c2 =L/(T*R) *A *10**(m*T/(T+T_n))*(gamma)* P\n",
    "sigma = Co * rh*(c1*rh + c2)\n",
    "\n",
    "epsilon = 1- 1/(1200-400.) * sum(np.exp(-1*sigma * L ))\n",
    "epsilon"
   ]
  },
  {
   "cell_type": "code",
   "execution_count": 102,
   "metadata": {
    "collapsed": false
   },
   "outputs": [
    {
     "data": {
      "text/plain": [
       "-2.8230155105063333e-14"
      ]
     },
     "execution_count": 102,
     "metadata": {},
     "output_type": "execute_result"
    }
   ],
   "source": [
    "np.mean(-1*sigma*15)"
   ]
  },
  {
   "cell_type": "code",
   "execution_count": 103,
   "metadata": {
    "collapsed": false
   },
   "outputs": [
    {
     "data": {
      "text/plain": [
       "-1.7643846940664583e-15"
      ]
     },
     "execution_count": 103,
     "metadata": {},
     "output_type": "execute_result"
    }
   ],
   "source": [
    "np.sum(-1*sigma*15)/(800.)"
   ]
  },
  {
   "cell_type": "code",
   "execution_count": 170,
   "metadata": {
    "collapsed": false
   },
   "outputs": [],
   "source": [
    "def epsilon(rh):\n",
    "    # compute upsilon as a function of relative humidity\n",
    "    eps = np.ones(rh.shape)*np.nan\n",
    "\n",
    "    nu = np.linspace(400, 1200,500) # wavelengths\n",
    "    P = 1 # pressure in atmospheres\n",
    "    T = 300\n",
    "    L = .5 # should be in km, if using Roberts 76 constants\n",
    "    Co = 1.25e-22 + 2.34e-19* np.exp(-8.3e-3 * nu)\n",
    "    gamma = 0.005 # could also be 0.002\n",
    "    R = 8.314\n",
    "    # RH constants from Vaisala http://www.vaisala.com/Vaisala%20Documents/Application%20notes/Humidity_Conversion_Formulas_B210973EN-F.pdf\n",
    "    A = 6.116441\n",
    "    T_n = 240.7263\n",
    "    m = 7.591386\n",
    "    c1 = L/(T*R) *A**2 *10**(2*m*T/(T+T_n))*(1 - gamma)\n",
    "    c2 =L/(T*R) *A *10**(m*T/(T+T_n))*(gamma)* P\n",
    "    sigma = Co * rh*(c1*rh + c2)\n",
    "    i = 0 \n",
    "    for r in rh: \n",
    "        eps[i] = 1- 1/(1200-400.) * np.sum(np.exp(-1*sigma * L ))\n",
    "        i = i+1\n",
    "    return eps"
   ]
  },
  {
   "cell_type": "code",
   "execution_count": 171,
   "metadata": {
    "collapsed": false
   },
   "outputs": [
    {
     "data": {
      "text/plain": [
       "[<matplotlib.lines.Line2D at 0x110582588>]"
      ]
     },
     "execution_count": 171,
     "metadata": {},
     "output_type": "execute_result"
    },
    {
     "data": {
      "image/png": "[encoded data removed]",
      "text/plain": [
       "<matplotlib.figure.Figure at 0x1104c0080>"
      ]
     },
     "metadata": {},
     "output_type": "display_data"
    }
   ],
   "source": [
    "rh = np.linspace(.15, .95, 500)\n",
    "sigma = 5.671e-8 #W.m-2.K-4\n",
    "plt.plot(rh, epsilon(rh)*sigma*T**4)"
   ]
  },
  {
   "cell_type": "code",
   "execution_count": 195,
   "metadata": {
    "collapsed": false
   },
   "outputs": [],
   "source": [
    "def eps_from_p(p_h2o):\n",
    "    # compute upsilon as a function of partial pressure of water vapor in mbar\n",
    "    eps = np.ones(p_h2o.shape)*np.nan\n",
    "\n",
    "    nu = np.linspace(400, 1200,500) # wavelengths\n",
    "    P = 1000 # pressure in mbar\n",
    "    T = 300\n",
    "    L = 5 # should be in km, if using Roberts 76 constants\n",
    "    Co = 1.25e-22 + 2.34e-19* np.exp(-8.3e-3 * nu)\n",
    "    gamma = 0.005 # could also be 0.002\n",
    "    R = 8.314\n",
    "    # RH constants from Vaisala http://www.vaisala.com/Vaisala%20Documents/Application%20notes/Humidity_Conversion_Formulas_B210973EN-F.pdf\n",
    "    \n",
    "    \n",
    "    i = 0 \n",
    "    for p in p_h2o:\n",
    "        sigma = Co/ (R*T) * (p *(p *(1-gamma) + gamma*P))\n",
    "        eps[i] = 1- 1/(1200-400.) * np.sum(np.exp(-1*sigma * L ))\n",
    "        i = i+1\n",
    "    return eps"
   ]
  },
  {
   "cell_type": "code",
   "execution_count": 194,
   "metadata": {
    "collapsed": false
   },
   "outputs": [
    {
     "data": {
      "text/plain": [
       "array([  8.64774922e-19,   1.24217493e-14,   4.86342361e-14,\n",
       "         1.07702739e-13,   1.88716461e-13,   2.90788852e-13,\n",
       "         4.13057067e-13,   5.54681443e-13,   7.14844989e-13,\n",
       "         8.92752872e-13,   1.08763193e-12,   1.29873019e-12,\n",
       "         1.52531637e-12,   1.76667946e-12,   2.02212822e-12,\n",
       "         2.29099075e-12,   2.57261405e-12,   2.86636360e-12,\n",
       "         3.17162295e-12,   3.48779325e-12,   3.81429293e-12,\n",
       "         4.15055724e-12,   4.49603789e-12,   4.85020265e-12,\n",
       "         5.21253503e-12,   5.58253384e-12,   5.95971290e-12,\n",
       "         6.34360064e-12,   6.73373981e-12,   7.12968709e-12,\n",
       "         7.53101280e-12,   7.93730055e-12,   8.34814697e-12,\n",
       "         8.76316135e-12,   9.18196535e-12,   9.60419275e-12,\n",
       "         1.00294891e-11,   1.04575114e-11,   1.08879281e-11,\n",
       "         1.13204183e-11,   1.17546720e-11,   1.21903897e-11,\n",
       "         1.26272818e-11,   1.30650688e-11,   1.35034810e-11,\n",
       "         1.39422580e-11,   1.43811486e-11,   1.48199106e-11,\n",
       "         1.52583106e-11,   1.56961237e-11,   1.61331333e-11,\n",
       "         1.65691310e-11,   1.70039163e-11,   1.74372962e-11,\n",
       "         1.78690855e-11,   1.82991062e-11,   1.87271872e-11,\n",
       "         1.91531648e-11,   1.95768816e-11,   1.99981870e-11,\n",
       "         2.04169369e-11,   2.08329933e-11,   2.12462243e-11,\n",
       "         2.16565039e-11,   2.20637119e-11,   2.24677336e-11,\n",
       "         2.28684600e-11,   2.32657871e-11,   2.36596162e-11,\n",
       "         2.40498536e-11,   2.44364105e-11,   2.48192028e-11,\n",
       "         2.51981510e-11,   2.55731801e-11,   2.59442195e-11,\n",
       "         2.63112028e-11,   2.66740676e-11,   2.70327557e-11,\n",
       "         2.73872126e-11,   2.77373876e-11,   2.80832337e-11,\n",
       "         2.84247074e-11,   2.87617686e-11,   2.90943807e-11,\n",
       "         2.94225102e-11,   2.97461267e-11,   3.00652029e-11,\n",
       "         3.03797146e-11,   3.06896401e-11,   3.09949609e-11,\n",
       "         3.12956608e-11,   3.15917265e-11,   3.18831469e-11,\n",
       "         3.21699136e-11,   3.24520204e-11,   3.27294635e-11,\n",
       "         3.30022413e-11,   3.32703540e-11,   3.35338043e-11,\n",
       "         3.37925967e-11,   3.40467376e-11,   3.42962351e-11,\n",
       "         3.45410995e-11,   3.47813423e-11,   3.50169772e-11,\n",
       "         3.52480190e-11,   3.54744843e-11,   3.56963912e-11,\n",
       "         3.59137591e-11,   3.61266089e-11,   3.63349627e-11,\n",
       "         3.65388440e-11,   3.67382774e-11,   3.69332887e-11,\n",
       "         3.71239047e-11,   3.73101536e-11,   3.74920644e-11,\n",
       "         3.76696669e-11,   3.78429923e-11,   3.80120722e-11,\n",
       "         3.81769395e-11,   3.83376275e-11,   3.84941707e-11,\n",
       "         3.86466039e-11,   3.87949630e-11,   3.89392843e-11,\n",
       "         3.90796049e-11,   3.92159623e-11,   3.93483948e-11,\n",
       "         3.94769411e-11,   3.96016403e-11,   3.97225322e-11,\n",
       "         3.98396570e-11,   3.99530551e-11,   4.00627674e-11,\n",
       "         4.01688354e-11,   4.02713005e-11,   4.03702047e-11,\n",
       "         4.04655903e-11,   4.05574996e-11,   4.06459754e-11,\n",
       "         4.07310607e-11,   4.08127984e-11,   4.08912319e-11,\n",
       "         4.09664046e-11,   4.10383601e-11,   4.11071419e-11,\n",
       "         4.11727939e-11,   4.12353599e-11,   4.12948837e-11,\n",
       "         4.13514092e-11,   4.14049804e-11,   4.14556413e-11,\n",
       "         4.15034356e-11,   4.15484075e-11,   4.15906006e-11,\n",
       "         4.16300587e-11,   4.16668258e-11,   4.17009453e-11,\n",
       "         4.17324609e-11,   4.17614160e-11,   4.17878539e-11,\n",
       "         4.18118179e-11,   4.18333510e-11,   4.18524962e-11,\n",
       "         4.18692962e-11,   4.18837936e-11,   4.18960309e-11,\n",
       "         4.19060502e-11,   4.19138936e-11,   4.19196029e-11,\n",
       "         4.19232197e-11,   4.19247854e-11,   4.19243413e-11,\n",
       "         4.19219281e-11,   4.19175866e-11,   4.19113573e-11,\n",
       "         4.19032803e-11,   4.18933955e-11,   4.18817426e-11,\n",
       "         4.18683611e-11,   4.18532900e-11,   4.18365681e-11,\n",
       "         4.18182340e-11,   4.17983260e-11,   4.17768821e-11,\n",
       "         4.17539398e-11,   4.17295366e-11,   4.17037095e-11,\n",
       "         4.16764953e-11,   4.16479305e-11,   4.16180511e-11,\n",
       "         4.15868930e-11,   4.15544917e-11,   4.15208823e-11,\n",
       "         4.14860998e-11,   4.14501786e-11,   4.14131529e-11,\n",
       "         4.13750567e-11,   4.13359234e-11,   4.12957863e-11,\n",
       "         4.12546782e-11,   4.12126318e-11,   4.11696792e-11,\n",
       "         4.11258523e-11,   4.10811826e-11,   4.10357014e-11,\n",
       "         4.09894395e-11,   4.09424274e-11,   4.08946955e-11,\n",
       "         4.08462734e-11,   4.07971908e-11,   4.07474768e-11,\n",
       "         4.06971604e-11,   4.06462699e-11,   4.05948336e-11,\n",
       "         4.05428794e-11,   4.04904347e-11,   4.04375267e-11,\n",
       "         4.03841823e-11,   4.03304281e-11,   4.02762901e-11,\n",
       "         4.02217942e-11,   4.01669661e-11,   4.01118307e-11,\n",
       "         4.00564132e-11,   4.00007379e-11,   3.99448292e-11,\n",
       "         3.98887109e-11,   3.98324066e-11,   3.97759396e-11,\n",
       "         3.97193328e-11,   3.96626089e-11,   3.96057902e-11,\n",
       "         3.95488986e-11,   3.94919560e-11,   3.94349836e-11,\n",
       "         3.93780026e-11,   3.93210337e-11,   3.92640975e-11,\n",
       "         3.92072140e-11,   3.91504032e-11,   3.90936847e-11,\n",
       "         3.90370776e-11,   3.89806011e-11,   3.89242738e-11,\n",
       "         3.88681141e-11,   3.88121402e-11,   3.87563699e-11,\n",
       "         3.87008207e-11,   3.86455100e-11,   3.85904547e-11,\n",
       "         3.85356715e-11,   3.84811770e-11,   3.84269873e-11,\n",
       "         3.83731183e-11,   3.83195857e-11,   3.82664049e-11,\n",
       "         3.82135909e-11,   3.81611587e-11,   3.81091228e-11,\n",
       "         3.80574977e-11,   3.80062974e-11,   3.79555357e-11,\n",
       "         3.79052264e-11,   3.78553826e-11,   3.78060177e-11,\n",
       "         3.77571444e-11,   3.77087754e-11,   3.76609231e-11,\n",
       "         3.76135996e-11,   3.75668170e-11,   3.75205869e-11,\n",
       "         3.74749209e-11,   3.74298301e-11,   3.73853257e-11,\n",
       "         3.73414185e-11,   3.72981190e-11,   3.72554378e-11,\n",
       "         3.72133849e-11,   3.71719704e-11,   3.71312040e-11,\n",
       "         3.70910953e-11,   3.70516537e-11,   3.70128883e-11,\n",
       "         3.69748082e-11,   3.69374220e-11,   3.69007383e-11,\n",
       "         3.68647656e-11,   3.68295121e-11,   3.67949858e-11,\n",
       "         3.67611944e-11,   3.67281458e-11,   3.66958473e-11,\n",
       "         3.66643062e-11,   3.66335296e-11,   3.66035246e-11,\n",
       "         3.65742979e-11,   3.65458561e-11,   3.65182056e-11,\n",
       "         3.64913528e-11,   3.64653037e-11,   3.64400643e-11,\n",
       "         3.64156405e-11,   3.63920378e-11,   3.63692618e-11,\n",
       "         3.63473178e-11,   3.63262110e-11,   3.63059464e-11,\n",
       "         3.62865290e-11,   3.62679635e-11,   3.62502545e-11,\n",
       "         3.62334066e-11,   3.62174240e-11,   3.62023110e-11,\n",
       "         3.61880716e-11,   3.61747098e-11,   3.61622294e-11,\n",
       "         3.61506341e-11,   3.61399274e-11,   3.61301128e-11,\n",
       "         3.61211935e-11,   3.61131729e-11,   3.61060539e-11,\n",
       "         3.60998396e-11,   3.60945327e-11,   3.60901360e-11,\n",
       "         3.60866521e-11,   3.60840836e-11,   3.60824327e-11,\n",
       "         3.60817020e-11,   3.60818934e-11,   3.60830091e-11,\n",
       "         3.60850511e-11,   3.60880213e-11,   3.60919215e-11,\n",
       "         3.60967533e-11,   3.61025184e-11,   3.61092182e-11,\n",
       "         3.61168543e-11,   3.61254278e-11,   3.61349401e-11,\n",
       "         3.61453922e-11,   3.61567853e-11,   3.61691203e-11,\n",
       "         3.61823982e-11,   3.61966196e-11,   3.62117855e-11,\n",
       "         3.62278963e-11,   3.62449527e-11,   3.62629553e-11,\n",
       "         3.62819043e-11,   3.63018002e-11,   3.63226433e-11,\n",
       "         3.63444337e-11,   3.63671717e-11,   3.63908572e-11,\n",
       "         3.64154903e-11,   3.64410710e-11,   3.64675991e-11,\n",
       "         3.64950743e-11,   3.65234966e-11,   3.65528655e-11,\n",
       "         3.65831808e-11,   3.66144419e-11,   3.66466484e-11,\n",
       "         3.66797997e-11,   3.67138953e-11,   3.67489346e-11,\n",
       "         3.67849167e-11,   3.68218410e-11,   3.68597067e-11,\n",
       "         3.68985129e-11,   3.69382587e-11,   3.69789432e-11,\n",
       "         3.70205653e-11,   3.70631241e-11,   3.71066185e-11,\n",
       "         3.71510472e-11,   3.71964092e-11,   3.72427033e-11,\n",
       "         3.72899281e-11,   3.73380825e-11,   3.73871650e-11,\n",
       "         3.74371744e-11,   3.74881091e-11,   3.75399679e-11,\n",
       "         3.75927491e-11,   3.76464512e-11,   3.77010729e-11,\n",
       "         3.77566123e-11,   3.78130681e-11,   3.78704384e-11,\n",
       "         3.79287217e-11,   3.79879162e-11,   3.80480203e-11,\n",
       "         3.81090321e-11,   3.81709498e-11,   3.82337718e-11,\n",
       "         3.82974961e-11,   3.83621208e-11,   3.84276441e-11,\n",
       "         3.84940642e-11,   3.85613789e-11,   3.86295865e-11,\n",
       "         3.86986848e-11,   3.87686720e-11,   3.88395460e-11,\n",
       "         3.89113047e-11,   3.89839462e-11,   3.90574682e-11,\n",
       "         3.91318689e-11,   3.92071459e-11,   3.92832973e-11,\n",
       "         3.93603208e-11,   3.94382143e-11,   3.95169756e-11,\n",
       "         3.95966026e-11,   3.96770930e-11,   3.97584446e-11,\n",
       "         3.98406552e-11,   3.99237226e-11,   4.00076445e-11,\n",
       "         4.00924186e-11,   4.01780427e-11,   4.02645144e-11,\n",
       "         4.03518315e-11,   4.04399917e-11,   4.05289926e-11,\n",
       "         4.06188320e-11,   4.07095074e-11,   4.08010167e-11,\n",
       "         4.08933573e-11,   4.09865270e-11,   4.10805234e-11,\n",
       "         4.11753442e-11,   4.12709869e-11,   4.13674492e-11,\n",
       "         4.14647287e-11,   4.15628231e-11,   4.16617298e-11,\n",
       "         4.17614466e-11,   4.18619711e-11,   4.19633008e-11,\n",
       "         4.20654333e-11,   4.21683662e-11,   4.22720972e-11,\n",
       "         4.23766238e-11,   4.24819436e-11,   4.25880541e-11,\n",
       "         4.26949531e-11,   4.28026380e-11,   4.29111064e-11,\n",
       "         4.30203560e-11,   4.31303843e-11,   4.32411889e-11,\n",
       "         4.33527674e-11,   4.34651173e-11,   4.35782364e-11,\n",
       "         4.36921221e-11,   4.38067720e-11,   4.39221838e-11,\n",
       "         4.40383551e-11,   4.41552834e-11,   4.42729664e-11,\n",
       "         4.43914016e-11,   4.45105867e-11,   4.46305193e-11,\n",
       "         4.47511970e-11,   4.48726174e-11,   4.49947782e-11,\n",
       "         4.51176769e-11,   4.52413112e-11,   4.53656788e-11,\n",
       "         4.54907773e-11,   4.56166044e-11,   4.57431576e-11,\n",
       "         4.58704347e-11,   4.59984332e-11,   4.61271510e-11,\n",
       "         4.62565857e-11,   4.63867349e-11,   4.65175963e-11,\n",
       "         4.66491677e-11,   4.67814467e-11,   4.69144310e-11,\n",
       "         4.70481184e-11,   4.71825066e-11,   4.73175932e-11,\n",
       "         4.74533761e-11,   4.75898530e-11,   4.77270216e-11,\n",
       "         4.78648797e-11,   4.80034251e-11,   4.81426555e-11,\n",
       "         4.82825687e-11,   4.84231625e-11,   4.85644347e-11,\n",
       "         4.87063831e-11,   4.88490055e-11])"
      ]
     },
     "execution_count": 194,
     "metadata": {},
     "output_type": "execute_result"
    }
   ],
   "source": [
    "Co/(R*10**(-6)*T) * (q *(q *(1-gamma) + gamma*P))"
   ]
  },
  {
   "cell_type": "code",
   "execution_count": 196,
   "metadata": {
    "collapsed": false
   },
   "outputs": [
    {
     "data": {
      "text/plain": [
       "[<matplotlib.lines.Line2D at 0x110c879b0>]"
      ]
     },
     "execution_count": 196,
     "metadata": {},
     "output_type": "execute_result"
    },
    {
     "data": {
      "image/png": "[encoded data removed]",
      "text/plain": [
       "<matplotlib.figure.Figure at 0x110a7c5f8>"
      ]
     },
     "metadata": {},
     "output_type": "display_data"
    }
   ],
   "source": [
    "q = np.linspace(.5, 30000, 500)\n",
    "p = q[-1]\n",
    "plt.plot(q, Co/(R*T) * (q *(q *(1-gamma) + gamma*P)))"
   ]
  },
  {
   "cell_type": "code",
   "execution_count": 199,
   "metadata": {
    "collapsed": false,
    "scrolled": true
   },
   "outputs": [
    {
     "data": {
      "text/plain": [
       "array([ 0.375,  0.375,  0.375,  0.375,  0.375,  0.375,  0.375,  0.375,\n",
       "        0.375,  0.375,  0.375,  0.375,  0.375,  0.375,  0.375,  0.375,\n",
       "        0.375,  0.375,  0.375,  0.375,  0.375,  0.375,  0.375,  0.375,\n",
       "        0.375,  0.375,  0.375,  0.375,  0.375,  0.375,  0.375,  0.375,\n",
       "        0.375,  0.375,  0.375,  0.375,  0.375,  0.375,  0.375,  0.375,\n",
       "        0.375,  0.375,  0.375,  0.375,  0.375,  0.375,  0.375,  0.375,\n",
       "        0.375,  0.375,  0.375,  0.375,  0.375,  0.375,  0.375,  0.375,\n",
       "        0.375,  0.375,  0.375,  0.375,  0.375,  0.375,  0.375,  0.375,\n",
       "        0.375,  0.375,  0.375,  0.375,  0.375,  0.375,  0.375,  0.375,\n",
       "        0.375,  0.375,  0.375,  0.375,  0.375,  0.375,  0.375,  0.375,\n",
       "        0.375,  0.375,  0.375,  0.375,  0.375,  0.375,  0.375,  0.375,\n",
       "        0.375,  0.375,  0.375,  0.375,  0.375,  0.375,  0.375,  0.375,\n",
       "        0.375,  0.375,  0.375,  0.375,  0.375,  0.375,  0.375,  0.375,\n",
       "        0.375,  0.375,  0.375,  0.375,  0.375,  0.375,  0.375,  0.375,\n",
       "        0.375,  0.375,  0.375,  0.375,  0.375,  0.375,  0.375,  0.375,\n",
       "        0.375,  0.375,  0.375,  0.375,  0.375,  0.375,  0.375,  0.375,\n",
       "        0.375,  0.375,  0.375,  0.375,  0.375,  0.375,  0.375,  0.375,\n",
       "        0.375,  0.375,  0.375,  0.375,  0.375,  0.375,  0.375,  0.375,\n",
       "        0.375,  0.375,  0.375,  0.375,  0.375,  0.375,  0.375,  0.375,\n",
       "        0.375,  0.375,  0.375,  0.375,  0.375,  0.375,  0.375,  0.375,\n",
       "        0.375,  0.375,  0.375,  0.375,  0.375,  0.375,  0.375,  0.375,\n",
       "        0.375,  0.375,  0.375,  0.375,  0.375,  0.375,  0.375,  0.375,\n",
       "        0.375,  0.375,  0.375,  0.375,  0.375,  0.375,  0.375,  0.375,\n",
       "        0.375,  0.375,  0.375,  0.375,  0.375,  0.375,  0.375,  0.375,\n",
       "        0.375,  0.375,  0.375,  0.375,  0.375,  0.375,  0.375,  0.375,\n",
       "        0.375,  0.375,  0.375,  0.375,  0.375,  0.375,  0.375,  0.375,\n",
       "        0.375,  0.375,  0.375,  0.375,  0.375,  0.375,  0.375,  0.375,\n",
       "        0.375,  0.375,  0.375,  0.375,  0.375,  0.375,  0.375,  0.375,\n",
       "        0.375,  0.375,  0.375,  0.375,  0.375,  0.375,  0.375,  0.375,\n",
       "        0.375,  0.375,  0.375,  0.375,  0.375,  0.375,  0.375,  0.375,\n",
       "        0.375,  0.375,  0.375,  0.375,  0.375,  0.375,  0.375,  0.375,\n",
       "        0.375,  0.375,  0.375,  0.375,  0.375,  0.375,  0.375,  0.375,\n",
       "        0.375,  0.375,  0.375,  0.375,  0.375,  0.375,  0.375,  0.375,\n",
       "        0.375,  0.375,  0.375,  0.375,  0.375,  0.375,  0.375,  0.375,\n",
       "        0.375,  0.375,  0.375,  0.375,  0.375,  0.375,  0.375,  0.375,\n",
       "        0.375,  0.375,  0.375,  0.375,  0.375,  0.375,  0.375,  0.375,\n",
       "        0.375,  0.375,  0.375,  0.375,  0.375,  0.375,  0.375,  0.375,\n",
       "        0.375,  0.375,  0.375,  0.375,  0.375,  0.375,  0.375,  0.375,\n",
       "        0.375,  0.375,  0.375,  0.375,  0.375,  0.375,  0.375,  0.375,\n",
       "        0.375,  0.375,  0.375,  0.375,  0.375,  0.375,  0.375,  0.375,\n",
       "        0.375,  0.375,  0.375,  0.375,  0.375,  0.375,  0.375,  0.375,\n",
       "        0.375,  0.375,  0.375,  0.375,  0.375,  0.375,  0.375,  0.375,\n",
       "        0.375,  0.375,  0.375,  0.375,  0.375,  0.375,  0.375,  0.375,\n",
       "        0.375,  0.375,  0.375,  0.375,  0.375,  0.375,  0.375,  0.375,\n",
       "        0.375,  0.375,  0.375,  0.375,  0.375,  0.375,  0.375,  0.375,\n",
       "        0.375,  0.375,  0.375,  0.375,  0.375,  0.375,  0.375,  0.375,\n",
       "        0.375,  0.375,  0.375,  0.375,  0.375,  0.375,  0.375,  0.375,\n",
       "        0.375,  0.375,  0.375,  0.375,  0.375,  0.375,  0.375,  0.375,\n",
       "        0.375,  0.375,  0.375,  0.375,  0.375,  0.375,  0.375,  0.375,\n",
       "        0.375,  0.375,  0.375,  0.375,  0.375,  0.375,  0.375,  0.375,\n",
       "        0.375,  0.375,  0.375,  0.375,  0.375,  0.375,  0.375,  0.375,\n",
       "        0.375,  0.375,  0.375,  0.375,  0.375,  0.375,  0.375,  0.375,\n",
       "        0.375,  0.375,  0.375,  0.375,  0.375,  0.375,  0.375,  0.375,\n",
       "        0.375,  0.375,  0.375,  0.375,  0.375,  0.375,  0.375,  0.375,\n",
       "        0.375,  0.375,  0.375,  0.375,  0.375,  0.375,  0.375,  0.375,\n",
       "        0.375,  0.375,  0.375,  0.375,  0.375,  0.375,  0.375,  0.375,\n",
       "        0.375,  0.375,  0.375,  0.375,  0.375,  0.375,  0.375,  0.375,\n",
       "        0.375,  0.375,  0.375,  0.375,  0.375,  0.375,  0.375,  0.375,\n",
       "        0.375,  0.375,  0.375,  0.375,  0.375,  0.375,  0.375,  0.375,\n",
       "        0.375,  0.375,  0.375,  0.375,  0.375,  0.375,  0.375,  0.375,\n",
       "        0.375,  0.375,  0.375,  0.375,  0.375,  0.375,  0.375,  0.375,\n",
       "        0.375,  0.375,  0.375,  0.375,  0.375,  0.375,  0.375,  0.375,\n",
       "        0.375,  0.375,  0.375,  0.375])"
      ]
     },
     "execution_count": 199,
     "metadata": {},
     "output_type": "execute_result"
    }
   ],
   "source": [
    "eps_from_p(q)"
   ]
  },
  {
   "cell_type": "code",
   "execution_count": 198,
   "metadata": {
    "collapsed": false
   },
   "outputs": [
    {
     "data": {
      "text/plain": [
       "[<matplotlib.lines.Line2D at 0x110dae438>]"
      ]
     },
     "execution_count": 198,
     "metadata": {},
     "output_type": "execute_result"
    },
    {
     "data": {
      "image/png": "[encoded data removed]",
      "text/plain": [
       "<matplotlib.figure.Figure at 0x110cfefd0>"
      ]
     },
     "metadata": {},
     "output_type": "display_data"
    }
   ],
   "source": [
    "q = np.linspace(5, 50, 500)\n",
    "sigma = 5.671e-8 #W.m-2.K-4\n",
    "plt.plot(q, eps_from_p(q)*sigma*T**4)"
   ]
  },
  {
   "cell_type": "code",
   "execution_count": 15,
   "metadata": {
    "collapsed": false
   },
   "outputs": [
    {
     "data": {
      "text/plain": [
       "[<matplotlib.lines.Line2D at 0x10e33d080>]"
      ]
     },
     "execution_count": 15,
     "metadata": {},
     "output_type": "execute_result"
    },
    {
     "data": {
      "image/png": "[encoded data removed]",
      "text/plain": [
       "<matplotlib.figure.Figure at 0x10af14780>"
      ]
     },
     "metadata": {},
     "output_type": "display_data"
    }
   ],
   "source": [
    "plt.plot(rh, np.exp(sigma*L))"
   ]
  },
  {
   "cell_type": "code",
   "execution_count": null,
   "metadata": {
    "collapsed": false
   },
   "outputs": [],
   "source": []
  },
  {
   "cell_type": "code",
   "execution_count": null,
   "metadata": {
    "collapsed": true
   },
   "outputs": [],
   "source": []
  }
 ],
 "metadata": {
  "kernelspec": {
   "display_name": "Python 3",
   "language": "python",
   "name": "python3"
  },
  "language_info": {
   "codemirror_mode": {
    "name": "ipython",
    "version": 3
   },
   "file_extension": ".py",
   "mimetype": "text/x-python",
   "name": "python",
   "nbconvert_exporter": "python",
   "pygments_lexer": "ipython3",
   "version": "3.6.0"
  }
 },
 "nbformat": 4,
 "nbformat_minor": 2
}
